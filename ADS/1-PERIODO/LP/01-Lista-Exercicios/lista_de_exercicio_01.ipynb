{
 "cells": [
  {
   "attachments": {},
   "cell_type": "markdown",
   "metadata": {},
   "source": [
    "## Marcelo Junior do Nascimento"
   ]
  },
  {
   "attachments": {},
   "cell_type": "markdown",
   "metadata": {},
   "source": [
    "## Variáveis, constantes, operadores aritméticos "
   ]
  },
  {
   "cell_type": "code",
   "execution_count": null,
   "metadata": {},
   "outputs": [],
   "source": [
    "# 1. Faça um programa que leia um número inteiro e o imprima.\n",
    "\n",
    "n = int(input(\"Digite um número: \"))\n",
    "\n",
    "print(\"O número digitado foi: \", n)"
   ]
  },
  {
   "cell_type": "code",
   "execution_count": null,
   "metadata": {},
   "outputs": [],
   "source": [
    "# 2. Peça ao usuário para digitar três valores inteiros e imprima a soma deles.\n",
    "\n",
    "n1 = int(input(\"Digite um número: \"))\n",
    "n2 = int(input(\"Digite outro número: \"))\n",
    "n3 = int(input(\"Digite mais um número: \"))\n",
    "\n",
    "print(\"A soma dos tres números é: \", n1 + n2 + n3)"
   ]
  },
  {
   "cell_type": "code",
   "execution_count": null,
   "metadata": {},
   "outputs": [],
   "source": [
    "# 3. Desenvolva um algoritmo em python que leia um número inteiro e imprima o seu antecessor e seu sucessor.\n",
    "\n",
    "n = int(input(\"Digite um número: \"))\n",
    "\n",
    "print(f\"Você digitou {n}\")\n",
    "print(f\"O antecessor dele é {n-1}\")\n",
    "print(f\"E o sucessor dele é {n+1}\")"
   ]
  },
  {
   "cell_type": "code",
   "execution_count": null,
   "metadata": {},
   "outputs": [],
   "source": [
    "# 4. Leia uma temperatura em graus Celsius e apresente-a convertida em\n",
    "# graus Fahrenheit. A fórmula de conversão é: F = C*(9.0/5.0)+32.0, sendo\n",
    "# F a temperatura em Fahrenheit e C a temperatura em Celsius.\n",
    "\n",
    "c = int(input(\"Digite a temperatura: \"))\n",
    "f = c*(9.0/5.0)+32.0\n",
    "\n",
    "print(f\"{c}° Celcius que convertido para Fahrenheit é {int(f)}°\")"
   ]
  },
  {
   "cell_type": "code",
   "execution_count": null,
   "metadata": {},
   "outputs": [],
   "source": [
    "# 5. Leia uma velocidade em km/h (quilômetros por hora) e apresente-a\n",
    "# convertida em m/s (metros por segundo). A fórmula de conversão é: M =\n",
    "# K/3.6, sendo K a velocidade em km/h e M em m/s.\n",
    "\n",
    "k = float(input(\"Digite a velocidade em quilômetros: \"))\n",
    "M = k / 3.6\n",
    "\n",
    "print(f\"{k:.2f} km/h equivalem a {M:.2f} m/s\")\n"
   ]
  },
  {
   "cell_type": "code",
   "execution_count": 8,
   "metadata": {},
   "outputs": [
    {
     "name": "stdout",
     "output_type": "stream",
     "text": [
      "A média aritimética de suas notas é 5.0\n"
     ]
    }
   ],
   "source": [
    "# 6. Leia quatro notas, calcule a média aritmética e imprima o resultado.\n",
    "\n",
    "n1 = int(input(\"Digite a nota 1: \"))\n",
    "n2 = int(input(\"Digite a nota 2: \"))\n",
    "n3 = int(input(\"Digite a nota 3: \"))\n",
    "n4 = int(input(\"Digite a nota 4: \"))\n",
    "\n",
    "media = (n1+n2+n3+n4) / 4\n",
    "\n",
    "print(f\"A média de suas notas é {media}\")"
   ]
  },
  {
   "cell_type": "code",
   "execution_count": null,
   "metadata": {},
   "outputs": [],
   "source": [
    "# 7. Leia um valor em real e a cotação do dólar. Em seguida, imprima o valor\n",
    "# correspondente em dólares.\n",
    "\n",
    "r = float(input(\"Digite o valor em Real para converter em Dolar: \"))\n",
    "c = float(input(\"Qual a cotação do Dolar? \"))\n",
    "\n",
    "conversao = r/c\n",
    "\n",
    "print(f\"Você tem U$ {conversao:.2f}.\")"
   ]
  },
  {
   "cell_type": "code",
   "execution_count": null,
   "metadata": {},
   "outputs": [],
   "source": [
    "# 8. Leia o valor do raio de um círculo e calcule e imprima a área do círculo correspondente. \n",
    "# A área do círculo é π*r² , considere π = 3.141592.\n",
    "\n",
    "PI = 3.141592\n",
    "\n",
    "raio = float(input(\"Digite o rio do círculo: \"))\n",
    "\n",
    "area = PI * pow(raio, 2)\n",
    "\n",
    "print(f\"A área do circulo é {area:.2f}\")"
   ]
  },
  {
   "cell_type": "code",
   "execution_count": null,
   "metadata": {},
   "outputs": [],
   "source": [
    "# 9. A importância de R$ 780.000,00 será dividida entre três ganhadores de um concurso. \n",
    "# Sendo que da quantia total: \n",
    "#     - O primeiro ganhador receberá 46%; \n",
    "#     - O segundo receberá 32%; \n",
    "#     - O terceiro receberá o restante;\n",
    "# Calcule e imprima a quantia ganha por cada um dos ganhadores.\n",
    "\n",
    "premio = 780000.00\n",
    "\n",
    "premio1 = premio * 0.46\n",
    "premio2 = premio * 0.32\n",
    "premio3 = premio - (premio1 + premio2)\n",
    "\n",
    "print(f\"Total do Prêmio: {premio}\")\n",
    "print(f\"O primeiro ganhador receberá R$ {premio1:.2f}\")\n",
    "print(f\"O segundo ganhador receberá R$ {premio2:.2f}\")\n",
    "print(f\"O terceiro ganhador receberá R$ {premio3:.2f}\")"
   ]
  },
  {
   "attachments": {},
   "cell_type": "markdown",
   "metadata": {},
   "source": [
    "## Estruturas Condicionais"
   ]
  },
  {
   "cell_type": "code",
   "execution_count": null,
   "metadata": {},
   "outputs": [],
   "source": [
    "# 10. Faça um programa que leia um número e, caso ele seja positivo, calcule e mostre: \n",
    "#     - O número digitado ao quadrado\n",
    "#     - A raiz quadrada do número digitado\n",
    "\n",
    "n = float(input(\"Digite um número: \"))\n",
    "\n",
    "if n < 0:\n",
    "    print(\"O número digitado é negativo.\")\n",
    "else:\n",
    "    print(f\"O número digitado ao quadrado é {pow(n, 2)}\")\n",
    "    print(f\"A raiz quadrada do número digitado é {pow(n, 0.5):.2f}\")"
   ]
  },
  {
   "cell_type": "code",
   "execution_count": null,
   "metadata": {},
   "outputs": [],
   "source": [
    "# 11. Faça um programa que receba um número inteiro e verifique se este\n",
    "# número é par ou ímpar, positivo ou negativo.\n",
    "\n",
    "n = int(input(\"Digite um número: \"))\n",
    "\n",
    "if n < 0:\n",
    "    x = \"Negativo\"\n",
    "else:\n",
    "    x = \"Positivo\"\n",
    "    \n",
    "if n % 2 == 0:\n",
    "    print(f\"{n} é um número Par {x}\")\n",
    "else:\n",
    "    print(f\"{n} é um número Impar {x}\")"
   ]
  },
  {
   "cell_type": "code",
   "execution_count": null,
   "metadata": {},
   "outputs": [],
   "source": [
    "# 12. Faça um programa que leia 2 notas de um aluno, verifique se as notas são válidas \n",
    "# e exiba na tela a média destas notas. Uma nota válida deve ser, obrigatoriamente, \n",
    "# um valor entre 0.0 e 10.0, onde caso a nota não possua um valor válido, este fato \n",
    "# deve ser informado ao usuário e o programa termina.\n",
    "\n",
    "n1 = float(input(\"Digite a 1º nota entre 0.0 e 10.0: \"))\n",
    "n2 = float(input(\"Digite a 2º nota entre 0.0 e 10.0: \"))\n",
    "\n",
    "if n1 < 0.0 or n1 > 10.0 or n2 < 0.0 or n2 > 10.0:\n",
    "    print(\"Notas inválidas. Programa encerrado!\")\n",
    "else:\n",
    "    media = (n1 + n2) / 2\n",
    "    print(f\"A média das dotas é {media:.2f}\")\n",
    "\n"
   ]
  },
  {
   "cell_type": "code",
   "execution_count": null,
   "metadata": {},
   "outputs": [],
   "source": [
    "# 13. Faça um programa que receba a altura e o sexo de uma pessoa e calcule\n",
    "# e mostre seu peso ideal, utilizando as seguintes fórmulas (onde h corresponde à altura): \n",
    "#     - Homens: (72.7 * h) − 58\n",
    "#     - Mulheres: (62, 1 * h) − 44, 7\n",
    "\n",
    "s = input(\"Digite o sexo da pessoa (M = Masculino e F = Feminino): \")\n",
    "h = float(input(\"Digite a altura da pessoa (ex.: 1.80): \"))\n",
    "\n",
    "homen = (72.7 * h) - 58\n",
    "mulher = (62.1 * h) - 44.7\n",
    "\n",
    "if s == \"M\":\n",
    "    print(f\"O peso ideal para a pessoa é: {homen:.2f}\")\n",
    "elif s == \"F\":\n",
    "    print(f\"O peso ideal para a pessoa é: {mulher:.2f}\")\n",
    "else:\n",
    "    print(\"Digite as informações corretamente. Programa Encerrado!\")"
   ]
  },
  {
   "cell_type": "code",
   "execution_count": null,
   "metadata": {},
   "outputs": [],
   "source": [
    "# 14. A nota final de um estudante é calculada a partir de três notas atribuídas \n",
    "# entre o intervalo de 0 até 10, respectivamente, a um trabalho de laboratório, \n",
    "# a uma avaliação semestral e a um exame final. A média das três notas mencionadas \n",
    "# anteriormente obedece aos pesos: Trabalho de Laboratório: 2; Avaliação Semestral: 3; \n",
    "# Exame Final: 5. De acordo com o resultado, mostre na tela se o aluno está reprovado \n",
    "# (média entre 0 e 2,9), de recuperação (entre 3 e 4,9) ou se foi aprovado. \n",
    "# Faça todas asverificações necessárias.\n",
    "\n",
    "lab = float(input(\"Digite a nota do trabalho de laboratório (0 a 10): \"))\n",
    "av = float(input(\"Digite a nota da avaliação semestral (0 a 10): \"))\n",
    "ex = float(input(\"Digite a nota do exame final (0 a 10): \"))\n",
    "\n",
    "media = ((lab * 2) + (av * 3) + (ex * 5)) / 10\n",
    "\n",
    "if media >= 0 and media < 3:\n",
    "    print(f\"Aluno reprovado! Média = {media:.2f}\")\n",
    "elif media >= 3 and media < 5:\n",
    "    print(f\"Aluno em recuperação! Média = {media:.2f}\")\n",
    "else:\n",
    "    print(f\"Aluno aprovado! Média = {media:.2f}\")"
   ]
  },
  {
   "cell_type": "code",
   "execution_count": null,
   "metadata": {},
   "outputs": [],
   "source": [
    "# 15. Faça um programa que faça 5 perguntas para uma pessoa sobre um crime. As perguntas são: \n",
    "#     - \"Telefonou para a vítima?\"\n",
    "#     - \"Esteve no local do crime?\"\n",
    "#     - \"Mora perto da vítima?\"\n",
    "#     - \"Devia para a vítima?\"\n",
    "#     - \"Já trabalhou com a vítima?\" \n",
    "# O programa deve no final emitir uma classificação sobre a participação da pessoa no crime. \n",
    "# Se a pessoa responder positivamente a 2 questões ela deve ser classificada como \"Suspeita\", \n",
    "# entre 3 e 4 como \"Cúmplice\" e 5 como \"Assassino\". Caso contrário, ele será classificado como \"Inocente\".\n",
    "\n",
    "print(\"Responda com S = sim ou N = não as seguintes perguntas:\")\n",
    "p1 = input(\"Telefonou para a vítima? \")\n",
    "p2 = input(\"Esteve no local do crime? \")\n",
    "p3 = input(\"Mora perto da vítima? \")\n",
    "p4 = input(\"Devia para a vítima? \")\n",
    "p5 = input(\"Já trabalhou com a vítima? \")\n",
    "\n",
    "c = 0\n",
    "\n",
    "if p1 == \"S\": c = c + 1\n",
    "if p2 == \"S\": c = c + 1\n",
    "if p3 == \"S\": c = c + 1\n",
    "if p4 == \"S\": c = c + 1\n",
    "if p5 == \"S\": c = c + 1\n",
    "\n",
    "if c > 1 and c <= 2:\n",
    "    print(\"A pessoa é Suspeita do crime\")\n",
    "elif c >= 3 and c <= 4:\n",
    "    print(\"A pessoa é Cúmplice do crime\")\n",
    "elif c >= 5:\n",
    "    print(\"A pessoa é a Assassina\")\n",
    "else:\n",
    "    print(\"A pessoa é Inocente\")"
   ]
  },
  {
   "cell_type": "code",
   "execution_count": null,
   "metadata": {},
   "outputs": [],
   "source": [
    "# 16. Leia a idade e o tempo de serviço de um trabalhador e escreva se ele pode ou não se aposentar. \n",
    "# As condições para aposentadoria são: \n",
    "#     - Ter pelo menos 65 anos, \n",
    "#     - Ou ter trabalhado pelo menos 30 anos, \n",
    "#     - Ou ter pelo menos 60 anos e trabalhado pelo menos 25 anos.\n",
    "\n",
    "idade = int(input(\"Digite a idade do trabalhador: \"))\n",
    "tempo_servico = int(input(\"Digite o tempo de serviço em anos: \"))\n",
    "\n",
    "if idade >= 65 or tempo_servico >= 30 or (idade >= 60 and tempo_servico >= 25):\n",
    "    print(\"O trabalhador pode se aposentar!\")\n",
    "else:\n",
    "    print(\"O trabalhador ainda não pode se aposentar.\")"
   ]
  },
  {
   "cell_type": "code",
   "execution_count": null,
   "metadata": {},
   "outputs": [],
   "source": [
    "# 17. Leia a distância em Km e a quantidade de litros de gasolina consumidos por um carro em um percurso, \n",
    "# calcule o consumo em Km/l e escreva uma mensagem de acordo com a tabela abaixo:\n",
    "\n",
    "# | CONSUMO   |  (Km/l) |        MENSAGEM |\n",
    "# | menor que |    8    |   Venda o carro |\n",
    "# | entre     | 08 e 12 |       Econômico |\n",
    "# | maior que |   12    | Super econômico |\n",
    "\n",
    "distancia = float(input(\"Qual a distancia em Km percorrida? \"))\n",
    "gasolina = float(input(\"Quantos litros de gasolina foram consumidos? \"))\n",
    "\n",
    "consumo = distancia / gasolina\n",
    "print(consumo)\n",
    "\n",
    "if consumo >=8 and consumo <= 12:\n",
    "    print(\"Econômico!\")\n",
    "elif consumo > 12:\n",
    "    print(\"Super econômico!\")\n",
    "else:\n",
    "    print(\"Venda o carro!\")"
   ]
  },
  {
   "attachments": {},
   "cell_type": "markdown",
   "metadata": {},
   "source": [
    "## Estruturas de repetição"
   ]
  },
  {
   "cell_type": "code",
   "execution_count": null,
   "metadata": {},
   "outputs": [],
   "source": [
    "# 18. Escreva um programa que escreva na tela, de 1 até 100, de 1 em 1, 2 vezes. \n",
    "# A primeira vez deve usar a estrutura de repetição “for”, a segundavez a estrutura “while”\n",
    "\n",
    "for x in range(1, 100+1):\n",
    "    print(x)\n",
    "\n",
    "i = 0   \n",
    "while i < 100:\n",
    "    i = i + 1\n",
    "    print(i)"
   ]
  },
  {
   "cell_type": "code",
   "execution_count": null,
   "metadata": {},
   "outputs": [],
   "source": [
    "# 19. Faça um programa que peça ao usuário para digitar 10 valores e some-os e imprima o resultado\n",
    "\n",
    "total = 0\n",
    "\n",
    "for x in range(1, 10+1):\n",
    "    n = float(input(f\"Valor {x}: \"))\n",
    "    total = total + n\n",
    "    \n",
    "print(f\"O total da soma dos valores é: {total}\")"
   ]
  },
  {
   "cell_type": "code",
   "execution_count": null,
   "metadata": {},
   "outputs": [],
   "source": [
    "# 20. Faça um programa que leia 10 inteiros e imprima sua media.\n",
    "\n",
    "total = 0\n",
    "\n",
    "for x in range(1, 10+1):\n",
    "    n = int(input(f\"Valor {x}: \"))\n",
    "    total = total + n\n",
    "    \n",
    "    \n",
    "media = total / 10\n",
    "print(f\"A media dos valores é: {media}\")"
   ]
  },
  {
   "cell_type": "code",
   "execution_count": null,
   "metadata": {},
   "outputs": [],
   "source": [
    "# 21. Faça um programa que leia 10 inteiros positivos, ignorando não positivos, e imprima sua média\n",
    "\n",
    "c = 0\n",
    "total = 0\n",
    "\n",
    "while c < 10:\n",
    "    n = int(input(f\"Valor {c+1}\"))\n",
    "    \n",
    "    if n < 0: \n",
    "        continue\n",
    "    else: \n",
    "        total = total + n\n",
    "        c = c + 1\n",
    "    \n",
    "media = total / c\n",
    "print(f\"A média dos valores é {media}\")\n"
   ]
  },
  {
   "cell_type": "code",
   "execution_count": null,
   "metadata": {},
   "outputs": [],
   "source": [
    "# 22. Faça um programa que leia um numero inteiro “N” e depois imprima os N primeiros números naturais ímpares.\n",
    "\n",
    "n = int(input(\"Digite um número: \"))\n",
    "\n",
    "for x in range(1, n+1):\n",
    "    if not x % 2 == 0:\n",
    "        print(x)"
   ]
  },
  {
   "cell_type": "code",
   "execution_count": null,
   "metadata": {},
   "outputs": [],
   "source": [
    "# 23. Faça um programa que leia um numero inteiro positivo “N” e imprima todos \n",
    "# os números naturais de 0 até “N” em ordem crescente.\n",
    "\n",
    "n = -1\n",
    "\n",
    "while n < 0:\n",
    "    n = int(input(\"Digite um número positivo: \"))\n",
    "    \n",
    "    if n < 0:\n",
    "        continue\n",
    "    else:\n",
    "        for x in range(n+1):\n",
    "            print(x)"
   ]
  },
  {
   "cell_type": "code",
   "execution_count": null,
   "metadata": {},
   "outputs": [],
   "source": [
    "# 24. Faça um programa que leia um numero inteiro positivo “N” e imprima todos os números \n",
    "# naturais de 0 até N em ordem decrescente.\n",
    "\n",
    "n = -1\n",
    "\n",
    "while n < 0:\n",
    "    n = int(input(\"Digite um número positivo: \"))\n",
    "    \n",
    "    if n < 0:\n",
    "        continue\n",
    "    else:\n",
    "        for x in range(n+1):\n",
    "            print(n - x)"
   ]
  },
  {
   "cell_type": "code",
   "execution_count": null,
   "metadata": {},
   "outputs": [],
   "source": [
    "# 25. Faça um programa que receba dois números. Calcule e mostre: \n",
    "#     - a soma dos números pares desse intervalo de números, incluindo os números digitados; \n",
    "#     - a multiplicação dos números ímpares desse intervalo, incluindo os digitados;\n",
    "\n",
    "n1 = int(input(\"Digite um número: \"))\n",
    "n2 = int(input(\"Digite outro número: \"))\n",
    "\n",
    "soma_pares = 0\n",
    "mult_impares = 1\n",
    "\n",
    "for x in  range(n1, n2+1):\n",
    "    if x % 2 == 0:\n",
    "        soma_pares = soma_pares + x\n",
    "    \n",
    "    if not x % 2 == 0:\n",
    "        mult_impares = mult_impares * x\n",
    "\n",
    "print(soma_pares)\n",
    "print(mult_impares)"
   ]
  },
  {
   "cell_type": "code",
   "execution_count": null,
   "metadata": {},
   "outputs": [],
   "source": [
    "# 26. Faça um programa que imprima a tabuada de multiplicação de 1 a 9\n",
    "c = 1\n",
    "\n",
    "while c < 9:\n",
    "    print()\n",
    "    print(f\"TABUADA DO {c}\")\n",
    "    for x in range(1, 9+1):\n",
    "        t = x * c        \n",
    "        print(f\"{c} * {x} = {t}\")\n",
    "    c = c + 1"
   ]
  },
  {
   "cell_type": "code",
   "execution_count": null,
   "metadata": {},
   "outputs": [],
   "source": [
    "# 27. Escreva um programa que leia um numero inteiro positivo “N” e emseguida \n",
    "# imprima “N” linhas do chamado Triângulo de Floyd. Para n=6,\n",
    "# temos:\n",
    "#     1\n",
    "#     2 3\n",
    "#     4 5 6\n",
    "#     7 8 9 10\n",
    "#     11 12 13 14 15\n",
    "#     16 17 18 19 20 21\n",
    "\n",
    "n = int(input(\"Digite um nÚmero \"))\n",
    "x = 1\n",
    "\n",
    "for i in range(n+1):\n",
    "    for y in range(i):\n",
    "        print(x, end=\" \")\n",
    "        x = x + 1\n",
    "    print()"
   ]
  }
 ],
 "metadata": {
  "kernelspec": {
   "display_name": "Python 3",
   "language": "python",
   "name": "python3"
  },
  "language_info": {
   "codemirror_mode": {
    "name": "ipython",
    "version": 3
   },
   "file_extension": ".py",
   "mimetype": "text/x-python",
   "name": "python",
   "nbconvert_exporter": "python",
   "pygments_lexer": "ipython3",
   "version": "3.11.0"
  },
  "orig_nbformat": 4
 },
 "nbformat": 4,
 "nbformat_minor": 2
}
