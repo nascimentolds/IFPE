{
 "cells": [
  {
   "attachments": {},
   "cell_type": "markdown",
   "metadata": {},
   "source": [
    "## Variáveis, constantes, operadores aritméticos "
   ]
  },
  {
   "cell_type": "code",
   "execution_count": null,
   "metadata": {},
   "outputs": [],
   "source": [
    "# 1. Faça um programa que leia um número inteiro e o imprima.\n",
    "\n",
    "n = int(input(\"Digite um número: \"))\n",
    "\n",
    "print(\"O número digitado foi: \", n)"
   ]
  },
  {
   "cell_type": "code",
   "execution_count": null,
   "metadata": {},
   "outputs": [],
   "source": [
    "# 2. Peça ao usuário para digitar três valores inteiros e imprima a soma deles.\n",
    "\n",
    "n1 = int(input(\"Digite um número: \"))\n",
    "n2 = int(input(\"Digite outro número: \"))\n",
    "n3 = int(input(\"Digite mais um número: \"))\n",
    "\n",
    "print(\"A soma dos tres números é: \", n1 + n2 + n3)"
   ]
  },
  {
   "cell_type": "code",
   "execution_count": null,
   "metadata": {},
   "outputs": [],
   "source": [
    "# 3. Desenvolva um algoritmo em python que leia um número inteiro e imprima o seu antecessor e seu sucessor.\n",
    "\n",
    "n = int(input(\"Digite um número: \"))\n",
    "\n",
    "print(f\"Você digitou {n}\")\n",
    "print(f\"O antecessor dele é {n-1}\")\n",
    "print(f\"E o sucessor dele é {n+1}\")"
   ]
  },
  {
   "cell_type": "code",
   "execution_count": null,
   "metadata": {},
   "outputs": [],
   "source": [
    "# 4. Leia uma temperatura em graus Celsius e apresente-a convertida em\n",
    "# graus Fahrenheit. A fórmula de conversão é: F = C*(9.0/5.0)+32.0, sendo\n",
    "# F a temperatura em Fahrenheit e C a temperatura em Celsius.\n",
    "\n",
    "c = int(input(\"Digite a temperatura: \"))\n",
    "f = c*(9.0/5.0)+32.0\n",
    "\n",
    "print(f\"{c}° Celcius que convertido para Fahrenheit é {int(f)}°\")"
   ]
  },
  {
   "cell_type": "code",
   "execution_count": null,
   "metadata": {},
   "outputs": [],
   "source": [
    "# 5. Leia uma velocidade em km/h (quilômetros por hora) e apresente-a\n",
    "# convertida em m/s (metros por segundo). A fórmula de conversão é: M =\n",
    "# K/3.6, sendo K a velocidade em km/h e M em m/s.\n",
    "\n",
    "k = float(input(\"Digite a velocidade em quilômetros: \"))\n",
    "M = k / 3.6\n",
    "\n",
    "print(f\"{k:.2f} km/h equivalem a {M:.2f} m/s\")\n"
   ]
  },
  {
   "cell_type": "code",
   "execution_count": 8,
   "metadata": {},
   "outputs": [
    {
     "name": "stdout",
     "output_type": "stream",
     "text": [
      "A média aritimética de suas notas é 5.0\n"
     ]
    }
   ],
   "source": [
    "# 6. Leia quatro notas, calcule a média aritmética e imprima o resultado.\n",
    "\n",
    "n1 = int(input(\"Digite a nota 1: \"))\n",
    "n2 = int(input(\"Digite a nota 2: \"))\n",
    "n3 = int(input(\"Digite a nota 3: \"))\n",
    "n4 = int(input(\"Digite a nota 4: \"))\n",
    "\n",
    "media = (n1+n2+n3+n4) / 4\n",
    "\n",
    "print(f\"A média de suas notas é {media}\")"
   ]
  },
  {
   "cell_type": "code",
   "execution_count": null,
   "metadata": {},
   "outputs": [],
   "source": [
    "# 7. Leia um valor em real e a cotação do dólar. Em seguida, imprima o valor\n",
    "# correspondente em dólares.\n",
    "\n",
    "r = float(input(\"Digite o valor em Real para converter em Dolar: \"))\n",
    "c = float(input(\"Qual a cotação do Dolar? \"))\n",
    "\n",
    "conversao = r/c\n",
    "\n",
    "print(f\"Você tem U$ {conversao:.2f}.\")"
   ]
  },
  {
   "cell_type": "code",
   "execution_count": null,
   "metadata": {},
   "outputs": [],
   "source": [
    "# 8. Leia o valor do raio de um círculo e calcule e imprima a área do círculo correspondente. \n",
    "# A área do círculo é π*r² , considere π = 3.141592.\n",
    "\n",
    "PI = 3.141592\n",
    "\n",
    "raio = float(input(\"Digite o rio do círculo: \"))\n",
    "\n",
    "area = PI * pow(raio, 2)\n",
    "\n",
    "print(f\"A área do circulo é {area:.2f}\")"
   ]
  },
  {
   "cell_type": "code",
   "execution_count": null,
   "metadata": {},
   "outputs": [],
   "source": [
    "# 9. A importância de R$ 780.000,00 será dividida entre três ganhadores de um concurso. \n",
    "# Sendo que da quantia total: \n",
    "#     - O primeiro ganhador receberá 46%; \n",
    "#     - O segundo receberá 32%; \n",
    "#     - O terceiro receberá o restante;\n",
    "# Calcule e imprima a quantia ganha por cada um dos ganhadores.\n",
    "\n",
    "premio = 780000.00\n",
    "\n",
    "premio1 = premio * 0.46\n",
    "premio2 = premio * 0.32\n",
    "premio3 = premio - (premio1 + premio2)\n",
    "\n",
    "print(f\"Total do Prêmio: {premio}\")\n",
    "print(f\"O primeiro ganhador receberá R$ {premio1:.2f}\")\n",
    "print(f\"O segundo ganhador receberá R$ {premio2:.2f}\")\n",
    "print(f\"O terceiro ganhador receberá R$ {premio3:.2f}\")"
   ]
  },
  {
   "attachments": {},
   "cell_type": "markdown",
   "metadata": {},
   "source": [
    "## Estruturas Condicionais"
   ]
  },
  {
   "cell_type": "code",
   "execution_count": null,
   "metadata": {},
   "outputs": [],
   "source": [
    "# 10. Faça um programa que leia um número e, caso ele seja positivo, calcule e mostre: \n",
    "#     - O número digitado ao quadrado\n",
    "#     - A raiz quadrada do número digitado\n",
    "\n",
    "n = float(input(\"Digite um número: \"))\n",
    "\n",
    "if n < 0:\n",
    "    print(\"O número digitado é negativo.\")\n",
    "else:\n",
    "    print(f\"O número digitado ao quadrado é {pow(n, 2)}\")\n",
    "    print(f\"A raiz quadrada do número digitado é {pow(n, 0.5):.2f}\")"
   ]
  },
  {
   "cell_type": "code",
   "execution_count": null,
   "metadata": {},
   "outputs": [],
   "source": [
    "# 11. Faça um programa que receba um número inteiro e verifique se este\n",
    "# número é par ou ímpar, positivo ou negativo.\n",
    "\n",
    "n = int(input(\"Digite um número: \"))\n",
    "\n",
    "if n < 0:\n",
    "    x = \"Negativo\"\n",
    "else:\n",
    "    x = \"Positivo\"\n",
    "    \n",
    "if n % 2 == 0:\n",
    "    print(f\"{n} é um número Par {x}\")\n",
    "else:\n",
    "    print(f\"{n} é um número Impar {x}\")"
   ]
  }
 ],
 "metadata": {
  "kernelspec": {
   "display_name": "Python 3",
   "language": "python",
   "name": "python3"
  },
  "language_info": {
   "codemirror_mode": {
    "name": "ipython",
    "version": 3
   },
   "file_extension": ".py",
   "mimetype": "text/x-python",
   "name": "python",
   "nbconvert_exporter": "python",
   "pygments_lexer": "ipython3",
   "version": "3.11.0"
  },
  "orig_nbformat": 4
 },
 "nbformat": 4,
 "nbformat_minor": 2
}
