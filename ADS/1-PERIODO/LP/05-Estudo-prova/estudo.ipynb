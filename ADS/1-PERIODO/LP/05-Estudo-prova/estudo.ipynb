{
 "cells": [
  {
   "attachments": {},
   "cell_type": "markdown",
   "metadata": {},
   "source": [
    "## Strings"
   ]
  },
  {
   "cell_type": "code",
   "execution_count": 3,
   "metadata": {},
   "outputs": [
    {
     "name": "stdout",
     "output_type": "stream",
     "text": [
      "Tamanho de \"Marcelo\": 7 caracteres\n",
      "Tamanho de \"marcelo\": 7 caracteres\n",
      "As duas strings são de tamanhos iguais.\n",
      "As duas strings possuem conteúdo diferentes.\n"
     ]
    }
   ],
   "source": [
    "# Tamanho de strings. Faça um programa que leia 2 strings e informe o conteúdo delas \n",
    "# seguido do seu comprimento. Informe também se as duas strings possuem o mesmo comprimento \n",
    "# e são iguais ou diferentes no conteúdo.\n",
    "\n",
    "#     Compara duas strings\n",
    "#     String 1: Brasil Hexa 2006\n",
    "#     String 2: Brasil! Hexa 2006!\n",
    "#     Tamanho de \"Brasil Hexa 2006\": 16 caracteres\n",
    "#     Tamanho de \"Brasil! Hexa 2006!\": 18 caracteres\n",
    "#     As duas strings são de tamanhos diferentes.\n",
    "#     As duas strings possuem conteúdo diferente.\n",
    "\n",
    "st1 = input('Digite a 1ª string: ')\n",
    "st2 = input('Digite a 2ª string: ')\n",
    "\n",
    "tamanho = ''\n",
    "conteudo = ''\n",
    "\n",
    "if len(st1) == len(st2): tamanho = 'iguais'\n",
    "else: tamanho = 'diferentes'\n",
    "\n",
    "if st1 == st2: conteudo = 'iguais'\n",
    "else: conteudo = 'diferentes'\n",
    "\n",
    "print(f'Tamanho de \"{st1}\": {len(st1)} caracteres')\n",
    "print(f'Tamanho de \"{st2}\": {len(st2)} caracteres')\n",
    "print(f'As duas strings são de tamanhos {tamanho}.')\n",
    "print(f'As duas strings possuem conteúdo {conteudo}.')"
   ]
  },
  {
   "cell_type": "code",
   "execution_count": 6,
   "metadata": {},
   "outputs": [
    {
     "name": "stdout",
     "output_type": "stream",
     "text": [
      "OIBÁF\n"
     ]
    }
   ],
   "source": [
    "# Nome ao contrário em maiúsculas. Faça um programa que permita ao usuário digitar \n",
    "# o seu nome e em seguida mostre o nome do usuário de trás para frente utilizando \n",
    "# somente letras maiúsculas. Dica: lembre−se que ao informar o nome o usuário pode \n",
    "# digitar letras maiúsculas ou minúsculas. \n",
    "\n",
    "nome = input('Digite seu nome: ').upper()\n",
    "\n",
    "print(nome[::-1])"
   ]
  },
  {
   "cell_type": "code",
   "execution_count": null,
   "metadata": {},
   "outputs": [],
   "source": [
    "# Nome na vertical. Faça um programa que solicite o nome do usuário e imprima-o na vertical. \n",
    "\n",
    "nome = input('Digite seu nome: ')\n",
    "\n",
    "for i in nome:\n",
    "    print(i)"
   ]
  },
  {
   "cell_type": "code",
   "execution_count": null,
   "metadata": {},
   "outputs": [],
   "source": []
  },
  {
   "cell_type": "code",
   "execution_count": 17,
   "metadata": {},
   "outputs": [
    {
     "name": "stdout",
     "output_type": "stream",
     "text": [
      "m\n",
      "ma\n",
      "mar\n",
      "marc\n",
      "marce\n",
      "marcel\n",
      "marcelo\n"
     ]
    }
   ],
   "source": [
    "# Nome na vertical em escada. Modifique o programa anterior de forma \n",
    "# a mostrar o nome em formato de escada. \n",
    "\n",
    "nome = input('Digite seu nome: ')\n",
    "\n",
    "for i in range(len(nome)):\n",
    "    print(nome[0:i+1])"
   ]
  },
  {
   "cell_type": "code",
   "execution_count": 23,
   "metadata": {},
   "outputs": [
    {
     "name": "stdout",
     "output_type": "stream",
     "text": [
      "marcelo\n",
      "arcelo\n",
      "rcelo\n",
      "celo\n",
      "elo\n",
      "lo\n",
      "o\n"
     ]
    }
   ],
   "source": [
    "# Nome na vertical em escada invertida. \n",
    "# Altere o programa anterior de modo que a escada seja invertida\n",
    "\n",
    "nome = input('Digite seu nome: ')\n",
    "\n",
    "for i in range(len(nome)):\n",
    "    print(nome[i:])"
   ]
  },
  {
   "cell_type": "code",
   "execution_count": 33,
   "metadata": {},
   "outputs": [
    {
     "name": "stdout",
     "output_type": "stream",
     "text": [
      "Você nasceu em 03 de Dezembro de 2010\n"
     ]
    }
   ],
   "source": [
    "# Data por extenso. Faça um programa que solicite a data de nascimento (dd/mm/aaaa) do usuário e imprima a data com o nome do mês por extenso.\n",
    "\n",
    "#     Data de Nascimento: 29/10/1973\n",
    "#     Você nasceu em  29 de Outubro de 1973.\n",
    "\n",
    "data = input('Digite sua data de Nascimento (00/00/0000): ')\n",
    "\n",
    "dia = data[:2]\n",
    "mes = data[3:5].replace('01', 'Janeiro').replace('02', 'Fevereiro').replace('03', 'Março').replace('04', 'Abril').replace('05', 'Maio').replace('05', 'Junho').replace('07', 'Julho').replace('08', 'agosto').replace('09', 'Setembro').replace('10', 'Outubro').replace('11', 'Novembro').replace('12', 'Dezembro')\n",
    "ano = data[6:]\n",
    "\n",
    "print(f'Você nasceu em {dia} de {mes} de {ano}')"
   ]
  },
  {
   "cell_type": "code",
   "execution_count": 42,
   "metadata": {},
   "outputs": [
    {
     "name": "stdout",
     "output_type": "stream",
     "text": [
      "arara é um Palíndromo.\n"
     ]
    }
   ],
   "source": [
    "# Palíndromo. Um palíndromo é uma seqüência de caracteres cuja leitura \n",
    "# é idêntica se feita da direita para esquerda ou vice−versa. \n",
    "# Por exemplo: OSSO e OVO são palíndromos. Em textos mais complexos \n",
    "# os espaços e pontuação são ignorados. A frase SUBI NO ONIBUS é o exemplo \n",
    "# de uma frase palíndroma onde os espaços foram ignorados. \n",
    "# Faça um programa que leia uma seqüência de caracteres, mostre−a \n",
    "# e diga se é um palíndromo ou não. \n",
    "\n",
    "texto = input('Digite o texto: ')\n",
    "texto_unido = texto.replace(' ', '').upper()\n",
    "\n",
    "# print(texto_unido[::-1])\n",
    "\n",
    "if texto_unido == texto_unido[::-1]:\n",
    "    res = 'é um Palíndromo.'\n",
    "else:\n",
    "    res = 'não é um Palíndromo.'\n",
    "\n",
    "print(texto, res)"
   ]
  },
  {
   "cell_type": "code",
   "execution_count": null,
   "metadata": {},
   "outputs": [],
   "source": [
    "# Jogo de Forca. Desenvolva um jogo da forca. \n",
    "# O jogador poderá errar 6 vezes antes de ser enforcado.\n",
    "\n",
    "#     Digite uma letra: A\n",
    "#     -> Você errou pela 1ª vez. Tente de novo!\n",
    "\n",
    "#     Digite uma letra: O\n",
    "#     A palavra é: _ _ _ _ O\n",
    "\n",
    "#     Digite uma letra: E\n",
    "#     A palavra é: _ E _ _ O\n",
    "\n",
    "#     Digite uma letra: S\n",
    "#     -> Você errou pela 2ª vez. Tente de novo!\n",
    "\n",
    "# palavra = 'martelo'.upper()\n",
    "\n",
    "# count = 1\n",
    "\n",
    "# while count <= 6:\n",
    "#     letra = input('Digite uma letra: ').upper()\n",
    "\n",
    "#     if letra in palavra:\n",
    "#         guess = \n",
    "#         print('_ ' * len(palavra) + letra)\n",
    "#     else:\n",
    "#         print('Você errou!')\n",
    "#         count = count + 1\n",
    "\n",
    "\n",
    "import random\n",
    "\n",
    "# lista de palavras para o jogo da forca\n",
    "palavras = ['python', 'programacao', 'computador', 'teclado', 'mouse', 'monitor']\n",
    "\n",
    "# escolhe uma palavra aleatória da lista\n",
    "palavra = random.choice(palavras)\n",
    "\n",
    "# cria uma lista com os caracteres da palavra, separando cada letra em um elemento da lista\n",
    "palavra_secreta = list(palavra)\n",
    "\n",
    "# cria uma lista com o mesmo número de elementos da palavra_secreta, mas com todos os elementos como \"_\"\n",
    "# essa lista será utilizada para exibir as letras já descobertas pelo jogador\n",
    "letras_descobertas = [\"_\"] * len(palavra_secreta)\n",
    "\n",
    "# contador de erros\n",
    "erros = 0\n",
    "\n",
    "# loop principal do jogo\n",
    "while True:\n",
    "    # verifica se o jogador já perdeu\n",
    "    if erros >= 6:\n",
    "        print(\"Você perdeu! A palavra era:\", palavra)\n",
    "        break\n",
    "\n",
    "    # exibe a palavra com as letras já descobertas pelo jogador\n",
    "    print(\"A palavra é:\", \" \".join(letras_descobertas))\n",
    "\n",
    "    # solicita uma letra ao jogador\n",
    "    letra = input(\"Digite uma letra: \").lower()\n",
    "\n",
    "    # verifica se a letra já foi escolhida antes\n",
    "    if letra in letras_descobertas:\n",
    "        print(\"Você já escolheu essa letra antes. Tente de novo!\")\n",
    "        continue\n",
    "\n",
    "    # verifica se a letra escolhida pelo jogador está na palavra secreta\n",
    "    if letra in palavra_secreta:\n",
    "        # percorre a palavra secreta e atualiza a lista de letras descobertas com as letras encontradas\n",
    "        for i in range(len(palavra_secreta)):\n",
    "            if palavra_secreta[i] == letra:\n",
    "                letras_descobertas[i] = letra\n",
    "    else:\n",
    "        # a letra escolhida não está na palavra secreta, então aumenta o contador de erros\n",
    "        erros += 1\n",
    "        print(f\"Você errou pela {erros}ª vez. Tente de novo!\")\n",
    "\n",
    "    # verifica se o jogador já ganhou\n",
    "    if \"_\" not in letras_descobertas:\n",
    "        print(\"Parabéns, você ganhou!\")\n",
    "        break\n",
    "\n"
   ]
  },
  {
   "cell_type": "code",
   "execution_count": 51,
   "metadata": {},
   "outputs": [
    {
     "name": "stdout",
     "output_type": "stream",
     "text": [
      "Serão necessários 63 anos para que o país A ultrapasse o pais B em população\n"
     ]
    }
   ],
   "source": [
    "# Supondo que a população de um país A seja da ordem de 80000 habitantes \n",
    "# com uma taxa anual de crescimento de 3% e que a população de B seja \n",
    "# 200000 habitantes com uma taxa de crescimento de 1.5%. Faça um programa \n",
    "# que calcule e escreva o número de anos necessários para que a população \n",
    "# do país A ultrapasse ou iguale a população do país B, mantidas as taxas \n",
    "# de crescimento. \n",
    "\n",
    "a = 80000\n",
    "b = 200000\n",
    "c = 0\n",
    "\n",
    "while a <= b:\n",
    "    a = a + (a * 3/100)\n",
    "    b = b + (b * 1.5/100)\n",
    "    c = c + 1\n",
    "\n",
    "print(f'Serão necessários {c} anos para que o país A ultrapasse o pais B em população')"
   ]
  },
  {
   "cell_type": "code",
   "execution_count": 53,
   "metadata": {},
   "outputs": [
    {
     "name": "stdout",
     "output_type": "stream",
     "text": [
      "1, 1, 2, 3, 5, 8, 13, 21, 34, 55, "
     ]
    }
   ],
   "source": [
    "# A série de Fibonacci é formada pela seqüência 1, 1, 2, 3, 5, 8, 13, 21, 34,\n",
    "# 55, ... Faça um programa capaz de gerar a série até o n−ésimo termo.\n",
    "\n",
    "n = int(input('Digite um número: '))\n",
    "\n",
    "fir = 0\n",
    "sec = 1\n",
    "aux = 1\n",
    "\n",
    "for i in range(n):\n",
    "    if fir < sec:\n",
    "        fir = aux\n",
    "        aux = sec\n",
    "        sec = sec + fir\n",
    "    \n",
    "    print(fir, end=', ')"
   ]
  }
 ],
 "metadata": {
  "kernelspec": {
   "display_name": "Python 3",
   "language": "python",
   "name": "python3"
  },
  "language_info": {
   "codemirror_mode": {
    "name": "ipython",
    "version": 3
   },
   "file_extension": ".py",
   "mimetype": "text/x-python",
   "name": "python",
   "nbconvert_exporter": "python",
   "pygments_lexer": "ipython3",
   "version": "3.10.11"
  },
  "orig_nbformat": 4
 },
 "nbformat": 4,
 "nbformat_minor": 2
}
